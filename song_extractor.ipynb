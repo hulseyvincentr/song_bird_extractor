{
 "cells": [
  {
   "cell_type": "code",
   "execution_count": null,
   "metadata": {},
   "outputs": [],
   "source": [
    "import matplotlib.pyplot as plt\n",
    "import numpy as np\n",
    "import os\n",
    "from scipy import signal\n",
    "from scipy.io import wavfile\n",
    "import io\n",
    "from PIL import Image\n",
    "import librosa\n",
    "\n",
    "#need to change this bit\n",
    "test_file = '/home/george/Documents/george_vae/testing/Y9_44818.40200373_9_14_11_10_0.wav'\n",
    "root = '/home/george/Documents/other/song_extractor'"
   ]
  },
  {
   "cell_type": "code",
   "execution_count": null,
   "metadata": {},
   "outputs": [],
   "source": [
    "# create sonogram of the whole song \n",
    " \n",
    "# wav to numpy array\n",
    "def wav_to_numpy(file):\n",
    "    rate, data = wavfile.read(file)\n",
    "    return rate, data\n",
    "\n",
    "def createSonogram(songfile):\n",
    "    data = wav_to_numpy(songfile)\n",
    "    rate = data[0]\n",
    "    data = data[1]\n",
    "\n",
    "    f, t, Sxx = signal.spectrogram(data, rate, nfft=512, noverlap=25, scaling=\"density\")\n",
    "\n",
    "    fmin = 400 # Hz\n",
    "    fmax = 8000 # Hz\n",
    "    freq_slice = np.where((f >= fmin) & (f <= fmax))\n",
    "\n",
    "    # keep only frequencies of interest\n",
    "    f   = f[freq_slice]\n",
    "    Sxx = Sxx[freq_slice,:][0]\n",
    "\n",
    "    Sxx = np.log(Sxx + 1)\n",
    "\n",
    "    np_sonogram = np.array(Sxx, dtype=\"float32\")\n",
    "    # figure size in inches 1,1\n",
    "    # plt.figure(figsize=(300,5))\n",
    "\n",
    "    # plt.pcolormesh(Sxx)\n",
    "    # plt.axis('off')\n",
    "    return plt, np_sonogram \n",
    "\n",
    "# np sonogram is the numpy array of the sonogram\n",
    "plt, np_sonogram = createSonogram(test_file)\n",
    "print(np_sonogram.shape)\n",
    "print(librosa.get_duration(filename=test_file) * 1000)\n",
    "\n",
    "ms_per_x_pixels = (librosa.get_duration(filename=test_file) * 1000) / np_sonogram.shape[1]\n",
    "print(ms_per_x_pixels)"
   ]
  },
  {
   "cell_type": "code",
   "execution_count": null,
   "metadata": {},
   "outputs": [],
   "source": [
    "# reverse the axis of the np array dim1 becomes dim 0 and vice versa\n",
    "np_sonogram = np_sonogram.T\n",
    "\n",
    "vertical_sum = np.sum(np_sonogram, axis=1)\n",
    "\n",
    "# x axis is the time axis\n",
    "plt.plot(vertical_sum) "
   ]
  },
  {
   "cell_type": "code",
   "execution_count": null,
   "metadata": {},
   "outputs": [],
   "source": [
    "from matplotlib.pyplot import axis \n",
    "\n",
    "window_size = 100\n",
    "threshold = 20\n",
    "\n",
    "# window slides over vertical sum, takes the average and keeps it if it is above threshold\n",
    "def sliding_window_average(vertical_sum, window_size, threshold):\n",
    "    window = np.ones(int(window_size))/float(window_size)\n",
    "    y = np.convolve(vertical_sum, window, 'same')\n",
    "    y = np.where(y > threshold, y, 0)\n",
    "    return y\n",
    "\n",
    "y = sliding_window_average(vertical_sum, window_size, threshold)\n",
    "\n",
    "# get the indices of the locations where the vertical sum is above threshold\n",
    "indices = np.where(y > 0)[0]\n",
    "plt.figure(figsize=(300,5))\n",
    "plt.imshow(np_sonogram[indices].T, origin='lower')\n"
   ]
  },
  {
   "cell_type": "markdown",
   "metadata": {},
   "source": [
    "## Creating extracted image files"
   ]
  },
  {
   "cell_type": "code",
   "execution_count": null,
   "metadata": {},
   "outputs": [],
   "source": [
    "save_full_sonogram = False\n",
    "list_of_np_sonograms = []\n",
    "\n",
    "for file in os.listdir('/home/george/Documents/other/song_extractor/after'):\n",
    "    os.remove('/home/george/Documents/other/song_extractor/after/' + file)\n",
    "\n",
    "for file in os.listdir('/home/george/Documents/other/song_extractor/before'):\n",
    "    # delete all the files in the after folder\n",
    "    if file.endswith('.wav'):\n",
    "        filename = file \n",
    "        file = root +'/before/' + file\n",
    "        plt, np_sonogram = createSonogram(file)\n",
    "        np_sonogram = np_sonogram.T\n",
    "        vertical_sum = np.sum(np_sonogram, axis=1)\n",
    "        y = sliding_window_average(vertical_sum, window_size, threshold)\n",
    "        indices = np.where(y > 0)[0]\n",
    "\n",
    "        if save_full_sonogram == True:\n",
    "            plt.imshow(np_sonogram[indices].T, origin='lower')\n",
    "            plt.axis('off')\n",
    "            plt.subplots_adjust(top = 1, bottom = 0, right = 1, left = 0, hspace = 0, wspace = 0)\n",
    "            plt.margins(0,0)\n",
    "\n",
    "            plt.savefig('/home/george/Documents/other/song_extractor/after/' + filename + '.png', bbox_inches='tight', pad_inches=0, dpi=300)\n",
    "\n",
    "        list_of_np_sonograms.append(np_sonogram[indices].T)"
   ]
  },
  {
   "cell_type": "markdown",
   "metadata": {},
   "source": [
    "## Create segments in here using the np_sonogram so you don't have to write and rewrite all the time "
   ]
  },
  {
   "cell_type": "code",
   "execution_count": null,
   "metadata": {},
   "outputs": [],
   "source": [
    "def create_segments(sonogram):\n",
    "    # 120ms \n",
    "    window_length = 88\n",
    "    # 90 precent overlap \n",
    "    window_overlap = .9\n",
    "\n",
    "    # step size is equal to the amount of pixels the frame needs to move\n",
    "    # this is equal to the frame size multiplied by the overlap\n",
    "    # the frame size needs to be adjusted to the amount of pixels per ms\n",
    "    step_size = int(window_length * (1 - window_overlap))\n",
    "    start_frame = 0\n",
    "    end_frame = int(window_length)\n",
    "    \n",
    "    positions = []\n",
    "\n",
    "    sonogram = np.swapaxes(sonogram, 0, 1)\n",
    "\n",
    "    while end_frame < sonogram.shape[0]:\n",
    "        if sonogram[start_frame:end_frame].shape == (window_length, window_length):\n",
    "            positions.append([start_frame, end_frame])\n",
    "        start_frame += step_size\n",
    "        end_frame += step_size\n",
    "    return positions\n",
    "\n",
    "list_of_positions = []\n",
    "for sonograms in list_of_np_sonograms:\n",
    "    list_of_positions.append(create_segments(sonograms))"
   ]
  },
  {
   "cell_type": "code",
   "execution_count": null,
   "metadata": {},
   "outputs": [],
   "source": [
    "import matplotlib\n",
    "\n",
    "# delete all files in the segments folder\n",
    "for file in os.listdir('/home/george/Documents/other/song_extractor/segments'):\n",
    "    os.remove('/home/george/Documents/other/song_extractor/segments/' + file)\n",
    "\n",
    "for i, sonogram in enumerate(list_of_np_sonograms):\n",
    "    print(f\"sonogram number: {i}\")\n",
    "    sonogram = np.swapaxes(sonogram, 0, 1)\n",
    "    for j, position in enumerate(list_of_positions[i]):\n",
    "        segment = sonogram[position[0]:position[1]]\n",
    "        segment = segment.T\n",
    "        plt.figure(figsize=(1.28,1.28))\n",
    "        plt.imshow(segment)\n",
    "        plt.gca().set_axis_off()\n",
    "        plt.subplots_adjust(top = 1, bottom = 0, right = 1, left = 0, \n",
    "                    hspace = 0, wspace = 0)\n",
    "        plt.margins(0,0)\n",
    "        plt.savefig('segments/test' + 'file:' + str(i) + '_segment:' + str(j) + '.png', dpi=100)\n",
    "        plt.close()"
   ]
  }
 ],
 "metadata": {
  "kernelspec": {
   "display_name": "georgewazhere",
   "language": "python",
   "name": "python3"
  },
  "language_info": {
   "codemirror_mode": {
    "name": "ipython",
    "version": 3
   },
   "file_extension": ".py",
   "mimetype": "text/x-python",
   "name": "python",
   "nbconvert_exporter": "python",
   "pygments_lexer": "ipython3",
   "version": "3.10.9"
  },
  "orig_nbformat": 4,
  "vscode": {
   "interpreter": {
    "hash": "c85f1e3035050c91b1add41273b06db2c6126126e6c36674dd470f5900551ca8"
   }
  }
 },
 "nbformat": 4,
 "nbformat_minor": 2
}
