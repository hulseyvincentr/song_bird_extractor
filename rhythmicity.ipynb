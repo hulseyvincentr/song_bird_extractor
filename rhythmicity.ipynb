{
 "cells": [
  {
   "cell_type": "code",
   "execution_count": 7,
   "metadata": {},
   "outputs": [
    {
     "name": "stdout",
     "output_type": "stream",
     "text": [
      "/Users/mirandahulsey-vincent/Documents/allPythonCode/GardnerLabRepoPython/testingSegmentation/Y11_44852.29415110_10_18_8_10_15.wav\n",
      "/Users/mirandahulsey-vincent/Documents//allPythonCode/GardnerLabRepoPython/testingSegmentation\n"
     ]
    }
   ],
   "source": [
    "import matplotlib.pyplot as plt\n",
    "import numpy as np\n",
    "import os\n",
    "from scipy import signal\n",
    "from scipy.io import wavfile\n",
    "import io\n",
    "from PIL import Image\n",
    "import librosa\n",
    "\n",
    "test_file = '/Users/mirandahulsey-vincent/Documents/allPythonCode/GardnerLabRepoPython/testingSegmentation/Y11_44852.29415110_10_18_8_10_15.wav'\n",
    "print(test_file)\n",
    "root = '/Users/mirandahulsey-vincent/Documents//allPythonCode/GardnerLabRepoPython/testingSegmentation'\n",
    "print(root)"
   ]
  },
  {
   "cell_type": "code",
   "execution_count": 9,
   "metadata": {},
   "outputs": [
    {
     "name": "stdout",
     "output_type": "stream",
     "text": [
      "/Users/mirandahulsey-vincent/Documents/allPythonCode/GardnerLabRepoPython/testingSegmentation/Y11_44852.29415110_10_18_8_10_15.wav\n",
      "/Users/mirandahulsey-vincent/Documents//allPythonCode/GardnerLabRepoPython/testingSegmentation\n"
     ]
    },
    {
     "ename": "FileNotFoundError",
     "evalue": "[Errno 2] No such file or directory: '/Users/mirandahulsey-vincent/Documents/allPythonCode/GardnerLabRepoPython/testingSegmentation/Y11_44852.29415110_10_18_8_10_15.wav'",
     "output_type": "error",
     "traceback": [
      "\u001b[0;31m---------------------------------------------------------------------------\u001b[0m",
      "\u001b[0;31mFileNotFoundError\u001b[0m                         Traceback (most recent call last)",
      "Cell \u001b[0;32mIn[9], line 36\u001b[0m\n\u001b[1;32m     33\u001b[0m     \u001b[39mreturn\u001b[39;00m np_sonogram \n\u001b[1;32m     35\u001b[0m \u001b[39m# np sonogram is the numpy array of the sonogram\u001b[39;00m\n\u001b[0;32m---> 36\u001b[0m np_sonogram \u001b[39m=\u001b[39m createSonogram(test_file)\n\u001b[1;32m     37\u001b[0m \u001b[39mprint\u001b[39m(np_sonogram\u001b[39m.\u001b[39mshape)\n\u001b[1;32m     38\u001b[0m \u001b[39mprint\u001b[39m(librosa\u001b[39m.\u001b[39mget_duration(filename\u001b[39m=\u001b[39mtest_file) \u001b[39m*\u001b[39m \u001b[39m1000\u001b[39m)\n",
      "Cell \u001b[0;32mIn[9], line 11\u001b[0m, in \u001b[0;36mcreateSonogram\u001b[0;34m(songfile)\u001b[0m\n\u001b[1;32m     10\u001b[0m \u001b[39mdef\u001b[39;00m \u001b[39mcreateSonogram\u001b[39m(songfile):\n\u001b[0;32m---> 11\u001b[0m     data \u001b[39m=\u001b[39m wav_to_numpy(songfile)\n\u001b[1;32m     12\u001b[0m     rate \u001b[39m=\u001b[39m data[\u001b[39m0\u001b[39m]\n\u001b[1;32m     13\u001b[0m     data \u001b[39m=\u001b[39m data[\u001b[39m1\u001b[39m]\n",
      "Cell \u001b[0;32mIn[9], line 7\u001b[0m, in \u001b[0;36mwav_to_numpy\u001b[0;34m(file)\u001b[0m\n\u001b[1;32m      6\u001b[0m \u001b[39mdef\u001b[39;00m \u001b[39mwav_to_numpy\u001b[39m(file):\n\u001b[0;32m----> 7\u001b[0m     rate, data \u001b[39m=\u001b[39m wavfile\u001b[39m.\u001b[39;49mread(file)\n\u001b[1;32m      8\u001b[0m     \u001b[39mreturn\u001b[39;00m rate, data\n",
      "File \u001b[0;32m~/opt/anaconda3/envs/georgewazhere/lib/python3.10/site-packages/scipy/io/wavfile.py:647\u001b[0m, in \u001b[0;36mread\u001b[0;34m(filename, mmap)\u001b[0m\n\u001b[1;32m    645\u001b[0m     mmap \u001b[39m=\u001b[39m \u001b[39mFalse\u001b[39;00m\n\u001b[1;32m    646\u001b[0m \u001b[39melse\u001b[39;00m:\n\u001b[0;32m--> 647\u001b[0m     fid \u001b[39m=\u001b[39m \u001b[39mopen\u001b[39;49m(filename, \u001b[39m'\u001b[39;49m\u001b[39mrb\u001b[39;49m\u001b[39m'\u001b[39;49m)\n\u001b[1;32m    649\u001b[0m \u001b[39mtry\u001b[39;00m:\n\u001b[1;32m    650\u001b[0m     file_size, is_big_endian \u001b[39m=\u001b[39m _read_riff_chunk(fid)\n",
      "\u001b[0;31mFileNotFoundError\u001b[0m: [Errno 2] No such file or directory: '/Users/mirandahulsey-vincent/Documents/allPythonCode/GardnerLabRepoPython/testingSegmentation/Y11_44852.29415110_10_18_8_10_15.wav'"
     ]
    }
   ],
   "source": [
    "# create sonogram of the whole song \n",
    "print(test_file)\n",
    "print(root)\n",
    "\n",
    "# wav to numpy array\n",
    "def wav_to_numpy(file):\n",
    "    rate, data = wavfile.read(file)\n",
    "    return rate, data\n",
    "\n",
    "def createSonogram(songfile):\n",
    "    data = wav_to_numpy(songfile)\n",
    "    rate = data[0]\n",
    "    data = data[1]\n",
    "\n",
    "    f, t, Sxx = signal.spectrogram(data, rate, nfft=512, noverlap=25, scaling=\"density\")\n",
    "\n",
    "#test\n",
    "\n",
    "    fmin = 400 # Hz\n",
    "    fmax = 8000 # Hz\n",
    "    freq_slice = np.where((f >= fmin) & (f <= fmax))\n",
    "\n",
    "    # keep only frequencies of interest\n",
    "    f   = f[freq_slice]\n",
    "    Sxx = Sxx[freq_slice,:][0]\n",
    "\n",
    "    Sxx = np.log(Sxx + 1)\n",
    "\n",
    "    np_sonogram = np.array(Sxx, dtype=\"float32\")\n",
    "    # figure size in inches 1,1\n",
    "    # plt.figure(figsize=(300,5))\n",
    "\n",
    "    # plt.pcolormesh(Sxx)\n",
    "    # plt.axis('off')\n",
    "    return np_sonogram \n",
    "\n",
    "# np sonogram is the numpy array of the sonogram\n",
    "np_sonogram = createSonogram(test_file)\n",
    "print(np_sonogram.shape)\n",
    "print(librosa.get_duration(filename=test_file) * 1000)\n",
    "\n",
    "ms_per_x_pixels = (librosa.get_duration(filename=test_file) * 1000) / np_sonogram.shape[1]\n",
    "print(ms_per_x_pixels)"
   ]
  },
  {
   "cell_type": "code",
   "execution_count": null,
   "metadata": {},
   "outputs": [],
   "source": [
    "# reverse the axis of the np array dim1 becomes dim 0 and vice versa\n",
    "np_sonogram = np_sonogram.T\n",
    "\n",
    "vertical_sum = np.sum(np_sonogram, axis=1)\n",
    "\n",
    "# x axis is the time axis\n",
    "plt.plot(vertical_sum) "
   ]
  },
  {
   "cell_type": "code",
   "execution_count": null,
   "metadata": {},
   "outputs": [],
   "source": [
    "f, t, Sxx = signal.spectrogram(vertical_sum, 1, nfft=256, noverlap=240, scaling=\"density\")\n",
    "Sxx = Sxx[:40]\n",
    "\n",
    "plt.pcolormesh(Sxx)"
   ]
  },
  {
   "cell_type": "code",
   "execution_count": null,
   "metadata": {},
   "outputs": [],
   "source": [
    "import math \n",
    "import matplotlib\n",
    "import gc\n",
    "from matplotlib import pyplot as plt\n",
    "import random\n",
    "\n",
    "# replace with dir, first dir is where the rhytmiciity graphs will be saved, \n",
    "save_dir = '/Users/mirandahulsey-vincent/Documents/allPythonCode/GardnerLabRepoPython/testingSegmentation/graphs'\n",
    "root_dir = '/Users/mirandahulsey-vincent/Documents/allPythonCode/GardnerLabRepoPython'  # second is where the data is being taken from\n",
    "\n",
    "for folder in os.listdir(root_dir):\n",
    "    list_of_double_sonograms = []\n",
    "    list_of_double_sonograms_names = []\n",
    "    for file in os.listdir(root_dir + folder):\n",
    "        # delete all the files in the after folder\n",
    "        try:\n",
    "            filename = file \n",
    "            file = root_dir + folder + '/' + file\n",
    "            np_sonogram = createSonogram(file)\n",
    "            np_sonogram = np_sonogram.T\n",
    "            vertical_sum = np.sum(np_sonogram, axis=1)\n",
    "            f, t, Sxx = signal.spectrogram(vertical_sum, 1, nfft=256, noverlap=240, scaling=\"density\")\n",
    "            Sxx = Sxx[:40]\n",
    "            # flip Sxx upside down\n",
    "            Sxx = np.flip(Sxx, axis=0)\n",
    "            plt.pcolormesh(Sxx)\n",
    "            list_of_double_sonograms.append(Sxx)\n",
    "            list_of_double_sonograms_names.append(filename)\n",
    "\n",
    "        except:\n",
    "            print('error with file: ' + file)\n",
    "\n",
    "    os.mkdir(save_dir + '/' + folder)\n",
    "\n",
    "    # write this so as to not load all the pyplot images into mem \n",
    "    for i, sonogram in enumerate(list_of_double_sonograms):\n",
    "        plt.figure(figsize=(1.28,1.28))\n",
    "        plt.imshow(sonogram, aspect='auto')\n",
    "        plt.gca().set_axis_off()\n",
    "        plt.subplots_adjust(top = 1, bottom = 0, right = 1, left = 0, \n",
    "                    hspace = 0, wspace = 0)\n",
    "        plt.margins(0,0)\n",
    "        plt.savefig(save_dir + '/' + folder + '/' + list_of_double_sonograms_names[i] + '.png', dpi=100)\n",
    "        plt.clf()"
   ]
  }
 ],
 "metadata": {
  "kernelspec": {
   "display_name": "georgewazhere",
   "language": "python",
   "name": "python3"
  },
  "language_info": {
   "codemirror_mode": {
    "name": "ipython",
    "version": 3
   },
   "file_extension": ".py",
   "mimetype": "text/x-python",
   "name": "python",
   "nbconvert_exporter": "python",
   "pygments_lexer": "ipython3",
   "version": "3.10.9"
  },
  "orig_nbformat": 4,
  "vscode": {
   "interpreter": {
    "hash": "c85f1e3035050c91b1add41273b06db2c6126126e6c36674dd470f5900551ca8"
   }
  }
 },
 "nbformat": 4,
 "nbformat_minor": 2
}
